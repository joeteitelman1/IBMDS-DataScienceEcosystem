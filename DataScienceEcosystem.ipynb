{
 "cells": [
  {
   "cell_type": "markdown",
   "id": "f4cef179",
   "metadata": {},
   "source": [
    "# Data Science Tools and Ecosystem"
   ]
  },
  {
   "cell_type": "markdown",
   "id": "504be30e",
   "metadata": {},
   "source": [
    "## In this notebook, Data Science Tools and Ecosystem are summarized"
   ]
  },
  {
   "cell_type": "markdown",
   "id": "656b084f",
   "metadata": {},
   "source": [
    "## Some of the popular languages that Data Scientists use are:\n",
    "1. Python\n",
    "2. R\n",
    "3. Julia"
   ]
  },
  {
   "cell_type": "markdown",
   "id": "d56755fc",
   "metadata": {},
   "source": [
    "## Some of the commonly used libraries used by Data Scientists include:\n",
    "1) NumPy\n",
    "2) Matplotlib\n",
    "3) Pandas"
   ]
  },
  {
   "cell_type": "markdown",
   "id": "f4227567",
   "metadata": {},
   "source": [
    "|Data Science Tools|\n",
    "|:----------------:|\n",
    "| Jupyter |\n",
    "| RStudio |\n",
    "| MySQL   |"
   ]
  },
  {
   "cell_type": "markdown",
   "id": "98cb9766",
   "metadata": {},
   "source": [
    "### Below are a few examples of of evaluating arithmetic expressions in Python."
   ]
  },
  {
   "cell_type": "code",
   "execution_count": 10,
   "id": "ebbc8354",
   "metadata": {},
   "outputs": [
    {
     "data": {
      "text/plain": [
       "17"
      ]
     },
     "execution_count": 10,
     "metadata": {},
     "output_type": "execute_result"
    }
   ],
   "source": [
    "# evaluate the following expression\n",
    "# Although we perform multiplication before addition, to avoid ambiguity we use parentheses\n",
    "(3*4)+5"
   ]
  },
  {
   "cell_type": "code",
   "execution_count": 11,
   "id": "524c25c8",
   "metadata": {},
   "outputs": [
    {
     "data": {
      "text/plain": [
       "3.3333333333333335"
      ]
     },
     "execution_count": 11,
     "metadata": {},
     "output_type": "execute_result"
    }
   ],
   "source": [
    "# to convert minutes to hours simply divide by 60\n",
    "# in more detail we multiply the number of minutes by the conversion factor (1 hour/60 minutes)\n",
    "200 * (1/60)"
   ]
  },
  {
   "cell_type": "code",
   "execution_count": 12,
   "id": "c6268f27",
   "metadata": {},
   "outputs": [
    {
     "data": {
      "text/plain": [
       "3.3333333333333335"
      ]
     },
     "execution_count": 12,
     "metadata": {},
     "output_type": "execute_result"
    }
   ],
   "source": [
    "# or simply divide 200 by 60 and we obtain 3 and 1/3 hours\n",
    "200/60"
   ]
  },
  {
   "cell_type": "markdown",
   "id": "a6dc220f",
   "metadata": {},
   "source": [
    "## In this notebook, Data Science Tools and Ecosystem are summarized \n",
    "|**Objectives** |\n",
    "|:------------------|\n",
    "|- Listing Several Popular Languages used in Data Science|\n",
    "|- Listing Several Popular (Python) Libraries used in Data Science|\n",
    "|- Listing Several Popular Data Science Tools in Data Science|\n",
    "|- Evaluating Simple Arithmetic Expressions using Python |"
   ]
  },
  {
   "cell_type": "markdown",
   "id": "d80d44de",
   "metadata": {},
   "source": [
    "## Author\n",
    "Joseph Teitelman"
   ]
  },
  {
   "cell_type": "code",
   "execution_count": null,
   "id": "4411b57b",
   "metadata": {},
   "outputs": [],
   "source": []
  }
 ],
 "metadata": {
  "kernelspec": {
   "display_name": "Python 3 (ipykernel)",
   "language": "python",
   "name": "python3"
  },
  "language_info": {
   "codemirror_mode": {
    "name": "ipython",
    "version": 3
   },
   "file_extension": ".py",
   "mimetype": "text/x-python",
   "name": "python",
   "nbconvert_exporter": "python",
   "pygments_lexer": "ipython3",
   "version": "3.11.5"
  }
 },
 "nbformat": 4,
 "nbformat_minor": 5
}
